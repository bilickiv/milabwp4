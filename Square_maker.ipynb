{
 "cells": [
  {
   "cell_type": "code",
   "execution_count": 12,
   "id": "d0968c45",
   "metadata": {},
   "outputs": [],
   "source": [
    "import cv2\n",
    "import os\n",
    "\n",
    "# A függvény, amely a téglalap alakú képet négyzet alakúvá alakítja\n",
    "def rect_to_square(img, out_folder, fn):\n",
    "    # Kép méretei\n",
    "    height, width, channels = img.shape\n",
    "\n",
    "    # Legrövidebb oldal hossza\n",
    "    shortest_side = min(height, width)\n",
    "    longest_side = max(height, width)\n",
    "    \n",
    "    num_squares = int(longest_side / shortest_side)\n",
    "    # print(width, height, num_squares)\n",
    "\n",
    "    # Négyzet oldalhossza\n",
    "    square_size = shortest_side\n",
    "            \n",
    "    if width > height:\n",
    "        # Négyzetek mentése\n",
    "        for i in range(1):\n",
    "            for j in range(num_squares):\n",
    "                x = j * square_size\n",
    "                y = i * square_size\n",
    "                square = img[y:y+square_size, x:x+square_size]\n",
    "                # print(fn, i, j, x, y, square_size)\n",
    "                # print(square)\n",
    "                cv2.imwrite(out_folder + filename + '_square_{}_{}.jpg'.format(i, j), square)\n",
    "        square = img[0:square_size, -(square_size-1):-1]\n",
    "        cv2.imwrite(out_folder + filename + '_square_final.jpg', square)\n",
    "    if width < height:\n",
    "        # Négyzetek mentése\n",
    "        for i in range(num_squares):\n",
    "            for j in range(1):\n",
    "                x = j * square_size\n",
    "                y = i * square_size\n",
    "                square = img[y:y+square_size, x:x+square_size]\n",
    "                # print(fn, i, j, x, y, square_size)\n",
    "                # print(square)\n",
    "                cv2.imwrite(out_folder + filename + '_square_{}_{}.jpg'.format(i, j), square)\n",
    "        square = img[-(square_size-1):-1, 0:square_size]\n",
    "        cv2.imwrite(out_folder + filename + '_square_final.jpg', square)\n",
    "    \n",
    "\n",
    "# Az input képek mappája\n",
    "input_folder = \"/home/inclouded/pte-szemeszet/training-symptoms/full_dataset_v2/starry_sky/\"\n",
    "# A kimeneti képek mappája\n",
    "output_folder = \"/home/inclouded/pte-szemeszet/training-symptoms/full_dataset_square_v4/starry_sky/\"\n",
    "# Ha még nem létezik a kimeneti mappa, akkor létrehozzuk\n",
    "if not os.path.exists(output_folder):\n",
    "    os.makedirs(output_folder)\n",
    "\n",
    "# Végigmegyünk az összes fájlon az input mappában\n",
    "for filename in os.listdir(input_folder):\n",
    "    # Ellenőrizzük, hogy a fájl egy kép-e\n",
    "    if not (filename.endswith(\".jpg\") or filename.endswith(\".jpeg\") or filename.endswith(\".png\")):\n",
    "        continue\n",
    "    # Beolvassuk a képet\n",
    "    img = cv2.imread(os.path.join(input_folder, filename))\n",
    "    # Átalakítjuk a téglalap alakú képet négyzet alakúvá\n",
    "    img_square = rect_to_square(img, output_folder, filename)\n"
   ]
  },
  {
   "cell_type": "code",
   "execution_count": 1,
   "id": "3ae10cb9",
   "metadata": {},
   "outputs": [
    {
     "name": "stdout",
     "output_type": "stream",
     "text": [
      "Mon Apr 17 10:22:20 2023       \r\n",
      "+-----------------------------------------------------------------------------+\r\n",
      "| NVIDIA-SMI 470.103.01   Driver Version: 470.103.01   CUDA Version: 11.4     |\r\n",
      "|-------------------------------+----------------------+----------------------+\r\n",
      "| GPU  Name        Persistence-M| Bus-Id        Disp.A | Volatile Uncorr. ECC |\r\n",
      "| Fan  Temp  Perf  Pwr:Usage/Cap|         Memory-Usage | GPU-Util  Compute M. |\r\n",
      "|                               |                      |               MIG M. |\r\n",
      "|===============================+======================+======================|\r\n",
      "|   0  NVIDIA GeForce ...  Off  | 00000000:01:00.0  On |                  N/A |\r\n",
      "|  0%   49C    P8    18W / 170W |    360MiB / 12050MiB |      0%      Default |\r\n",
      "|                               |                      |                  N/A |\r\n",
      "+-------------------------------+----------------------+----------------------+\r\n",
      "                                                                               \r\n",
      "+-----------------------------------------------------------------------------+\r\n",
      "| Processes:                                                                  |\r\n",
      "|  GPU   GI   CI        PID   Type   Process name                  GPU Memory |\r\n",
      "|        ID   ID                                                   Usage      |\r\n",
      "|=============================================================================|\r\n",
      "|    0   N/A  N/A       911      G   /usr/lib/xorg/Xorg                 35MiB |\r\n",
      "|    0   N/A  N/A    256620      G   /usr/lib/xorg/Xorg                213MiB |\r\n",
      "|    0   N/A  N/A    256748      G   /usr/bin/gnome-shell               22MiB |\r\n",
      "|    0   N/A  N/A    256772      G   ...mviewer/tv_bin/TeamViewer        2MiB |\r\n",
      "|    0   N/A  N/A    269689      G   ...AAAAAAAAA= --shared-files        8MiB |\r\n",
      "|    0   N/A  N/A    290642      G   /usr/lib/firefox/firefox            8MiB |\r\n",
      "+-----------------------------------------------------------------------------+\r\n"
     ]
    }
   ],
   "source": [
    "!nvidia-smi"
   ]
  },
  {
   "cell_type": "code",
   "execution_count": null,
   "id": "59e9c6fb",
   "metadata": {},
   "outputs": [],
   "source": []
  }
 ],
 "metadata": {
  "kernelspec": {
   "display_name": "Python 3 (ipykernel)",
   "language": "python",
   "name": "python3"
  },
  "language_info": {
   "codemirror_mode": {
    "name": "ipython",
    "version": 3
   },
   "file_extension": ".py",
   "mimetype": "text/x-python",
   "name": "python",
   "nbconvert_exporter": "python",
   "pygments_lexer": "ipython3",
   "version": "3.8.10"
  }
 },
 "nbformat": 4,
 "nbformat_minor": 5
}
